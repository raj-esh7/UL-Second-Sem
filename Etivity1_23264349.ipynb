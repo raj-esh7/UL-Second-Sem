{
  "cells": [
    {
      "cell_type": "markdown",
      "metadata": {
        "id": "view-in-github",
        "colab_type": "text"
      },
      "source": [
        "<a href=\"https://colab.research.google.com/github/raj-esh7/UL-Second-Sem/blob/master/Etivity1_23264349.ipynb\" target=\"_parent\"><img src=\"https://colab.research.google.com/assets/colab-badge.svg\" alt=\"Open In Colab\"/></a>"
      ]
    },
    {
      "cell_type": "markdown",
      "metadata": {
        "id": "YqIzkxkqY1nn"
      },
      "source": [
        "# Student name: Cong Liu"
      ]
    },
    {
      "cell_type": "markdown",
      "metadata": {
        "id": "wyz-_hexY1no"
      },
      "source": [
        "# Student ID: 22030573"
      ]
    },
    {
      "cell_type": "code",
      "execution_count": null,
      "metadata": {
        "id": "v7d3lqtRY1no"
      },
      "outputs": [],
      "source": [
        "import matplotlib.pyplot as plt\n",
        "import numpy as np\n",
        "from sklearn import preprocessing\n",
        "import math\n",
        "import random\n",
        "from sklearn.datasets import make_classification\n",
        "from sklearn.model_selection import train_test_split\n",
        "from sklearn.linear_model import LogisticRegression\n",
        "from sklearn.model_selection import learning_curve\n",
        "from sklearn.model_selection import ShuffleSplit\n",
        "import pandas as pd\n",
        "from sklearn.neural_network import MLPClassifier"
      ]
    },
    {
      "cell_type": "markdown",
      "metadata": {
        "id": "A_UMBkTGY1no"
      },
      "source": [
        "# Task 1\n",
        "### Purpose:\n",
        "To check your understanding of key terms used throughout this module."
      ]
    },
    {
      "cell_type": "markdown",
      "metadata": {
        "id": "6fa6F5c3Y1no"
      },
      "source": [
        "## Answer"
      ]
    },
    {
      "cell_type": "markdown",
      "metadata": {
        "id": "VDNyg_afY1no"
      },
      "source": [
        "Provide your answer in this cell..\n",
        "\n",
        "Let us assume that we have a dataset of balls, specifically ping pong balls and golf balls. We aim to use **perceptron** to classify them based on two features: circumference and weight.\n",
        "\n",
        "So in the begining we have many ping pong balls and golf balls in the same time with two features 'circumference' and 'weight'. We then let those two features be the input space. So we have to train perceptron to learn final hypothesis with a set of different decision boundaries to best approximate the unknown target function that can perfectly distinguish between the two types of balls.\n",
        "During the training, the perceptron automaticaly adjust its parameters to minimize the error measure which is the counts of the misclassified instances in the dataset. After training it will leads to a final hypothesis which can effectively seperates ping pong balls and golf balls according to the two features. And in the end, we have in-sample error and out-of-sample error. Specifically, the former represents how well the perceptron learned from the training data where latter represents how well this model generalizes to new and unseen data.\n",
        "\n",
        "To showcase the results, the output space of the whole model is binary consisting of two types either ping pong ball or golf ball.\n",
        "    \n",
        "\n"
      ]
    },
    {
      "cell_type": "markdown",
      "metadata": {
        "id": "EXpuKiHNY1no"
      },
      "source": [
        "# Task 2\n",
        "Learning curves allow us to look at the impact that the size of the training data set N has on the ability to keep the difference between $E_{in}$ and $E_{out}$ small."
      ]
    },
    {
      "cell_type": "code",
      "execution_count": null,
      "metadata": {
        "id": "4bX_VTIYY1np"
      },
      "outputs": [],
      "source": [
        "import numpy as np\n",
        "import matplotlib.pyplot as plt\n",
        "from sklearn.naive_bayes import GaussianNB\n",
        "from sklearn.svm import SVC\n",
        "from sklearn.datasets import load_digits\n",
        "from sklearn.model_selection import learning_curve\n",
        "from sklearn.model_selection import ShuffleSplit\n",
        "\n",
        "\n",
        "def plot_learning_curve(estimator, title, X, y, ylim=None, cv=None,\n",
        "                        n_jobs=None, train_sizes=np.linspace(.1, 1.0, 5)):\n",
        "    \"\"\"\n",
        "    Generate a simple plot of the test and training learning curve.\n",
        "\n",
        "    Parameters\n",
        "    ----------\n",
        "    estimator : object type that implements the \"fit\" and \"predict\" methods\n",
        "        An object of that type which is cloned for each validation.\n",
        "\n",
        "    title : string\n",
        "        Title for the chart.\n",
        "\n",
        "    X : array-like, shape (n_samples, n_features)\n",
        "        Training vector, where n_samples is the number of samples and\n",
        "        n_features is the number of features.\n",
        "\n",
        "    y : array-like, shape (n_samples) or (n_samples, n_features), optional\n",
        "        Target relative to X for classification or regression;\n",
        "        None for unsupervised learning.\n",
        "\n",
        "    ylim : tuple, shape (ymin, ymax), optional\n",
        "        Defines minimum and maximum yvalues plotted.\n",
        "\n",
        "    cv : int, cross-validation generator or an iterable, optional\n",
        "        Determines the cross-validation splitting strategy.\n",
        "        Possible inputs for cv are:\n",
        "          - None, to use the default 3-fold cross-validation,\n",
        "          - integer, to specify the number of folds.\n",
        "          - :term:`CV splitter`,\n",
        "          - An iterable yielding (train, test) splits as arrays of indices.\n",
        "\n",
        "        For integer/None inputs, if ``y`` is binary or multiclass,\n",
        "        :class:`StratifiedKFold` used. If the estimator is not a classifier\n",
        "        or if ``y`` is neither binary nor multiclass, :class:`KFold` is used.\n",
        "\n",
        "        Refer :ref:`User Guide <cross_validation>` for the various\n",
        "        cross-validators that can be used here.\n",
        "\n",
        "    n_jobs : int or None, optional (default=None)\n",
        "        Number of jobs to run in parallel.\n",
        "        ``None`` means 1 unless in a :obj:`joblib.parallel_backend` context.\n",
        "        ``-1`` means using all processors. See :term:`Glossary <n_jobs>`\n",
        "        for more details.\n",
        "\n",
        "    train_sizes : array-like, shape (n_ticks,), dtype float or int\n",
        "        Relative or absolute numbers of training examples that will be used to\n",
        "        generate the learning curve. If the dtype is float, it is regarded as a\n",
        "        fraction of the maximum size of the training set (that is determined\n",
        "        by the selected validation method), i.e. it has to be within (0, 1].\n",
        "        Otherwise it is interpreted as absolute sizes of the training sets.\n",
        "        Note that for classification the number of samples usually have to\n",
        "        be big enough to contain at least one sample from each class.\n",
        "        (default: np.linspace(0.1, 1.0, 5))\n",
        "    \"\"\"\n",
        "    plt.figure()\n",
        "    #plt.title(title)\n",
        "    if ylim is not None:\n",
        "        plt.ylim(*ylim)\n",
        "    plt.xlabel(\"Training examples\")\n",
        "    plt.ylabel(\"Error\")\n",
        "    train_sizes, train_scores, test_scores = learning_curve(\n",
        "        estimator, X, y, cv=cv, n_jobs=n_jobs, train_sizes=train_sizes)\n",
        "\n",
        "    train_errors = 1- train_scores\n",
        "    test_errors = 1-test_scores\n",
        "\n",
        "    train_errors_mean = np.mean(train_errors, axis=1)\n",
        "    train_errors_std = np.std(train_errors, axis=1)\n",
        "    test_errors_mean = np.mean(test_errors, axis=1)\n",
        "    test_errors_std = np.std(test_errors, axis=1)\n",
        "    plt.grid()\n",
        "\n",
        "    plt.fill_between(train_sizes, train_errors_mean - train_errors_std,\n",
        "                     train_errors_mean + train_errors_std, alpha=0.1,\n",
        "                     color=\"r\")\n",
        "    plt.fill_between(train_sizes, test_errors_mean - test_errors_std,\n",
        "                     test_errors_mean + test_errors_std, alpha=0.1, color=\"g\")\n",
        "    plt.plot(train_sizes, train_errors_mean, 'o-', color=\"r\",\n",
        "             label=\"Training error\")\n",
        "    plt.plot(train_sizes, test_errors_mean, 'o-', color=\"g\",\n",
        "             label=\"Test error\")\n",
        "\n",
        "\n",
        "    plt.legend(loc=\"best\")\n",
        "    return plt"
      ]
    },
    {
      "cell_type": "code",
      "execution_count": null,
      "metadata": {
        "id": "vv-RznSoY1np"
      },
      "outputs": [],
      "source": [
        "data = np.loadtxt(\"Et1_Task2.csv\", delimiter=\",\")\n",
        "X = data[:,0:2]\n",
        "y=data[:,2]"
      ]
    },
    {
      "cell_type": "markdown",
      "metadata": {
        "id": "HZh3hwXgY1np"
      },
      "source": [
        "## Logistic regression learning curve"
      ]
    },
    {
      "cell_type": "code",
      "execution_count": null,
      "metadata": {
        "id": "Dm9_-H-rY1np"
      },
      "outputs": [],
      "source": [
        "cv = ShuffleSplit(n_splits=25, test_size=0.2)"
      ]
    },
    {
      "cell_type": "code",
      "execution_count": null,
      "metadata": {
        "id": "Fb6lmixpY1np",
        "outputId": "83bd2539-9537-4106-8e16-ff2acb1e7e69",
        "colab": {
          "base_uri": "https://localhost:8080/",
          "height": 467
        }
      },
      "outputs": [
        {
          "output_type": "execute_result",
          "data": {
            "text/plain": [
              "<module 'matplotlib.pyplot' from '/usr/local/lib/python3.10/dist-packages/matplotlib/pyplot.py'>"
            ]
          },
          "metadata": {},
          "execution_count": 18
        },
        {
          "output_type": "display_data",
          "data": {
            "text/plain": [
              "<Figure size 640x480 with 1 Axes>"
            ],
            "image/png": "[encoded data removed]"
          },
          "metadata": {}
        }
      ],
      "source": [
        "estimator = LogisticRegression(random_state=0, solver='lbfgs',multi_class='multinomial')\n",
        "plot_learning_curve(estimator, \"title\", X, y, cv=cv, n_jobs=4, train_sizes = np.linspace(0.01, .5, 5))"
      ]
    },
    {
      "cell_type": "markdown",
      "metadata": {
        "id": "mhPuDbh9Y1nq"
      },
      "source": [
        "## Neural net learning curves"
      ]
    },
    {
      "cell_type": "code",
      "execution_count": null,
      "metadata": {
        "id": "n4G88CQrY1nq",
        "outputId": "84b4edfa-36d4-4c05-f5d5-206068b3209a",
        "colab": {
          "base_uri": "https://localhost:8080/",
          "height": 467
        }
      },
      "outputs": [
        {
          "output_type": "execute_result",
          "data": {
            "text/plain": [
              "<module 'matplotlib.pyplot' from '/usr/local/lib/python3.10/dist-packages/matplotlib/pyplot.py'>"
            ]
          },
          "metadata": {},
          "execution_count": 19
        },
        {
          "output_type": "display_data",
          "data": {
            "text/plain": [
              "<Figure size 640x480 with 1 Axes>"
            ],
            "image/png": "[encoded data removed]"
          },
          "metadata": {}
        }
      ],
      "source": [
        "estimator = MLPClassifier(solver='lbfgs', alpha=1e-5,hidden_layer_sizes=(200, 4), random_state=1)\n",
        "plot_learning_curve(estimator, \"title\", X, y, cv=cv, n_jobs=4, train_sizes = np.linspace(0.01, .5, 5))"
      ]
    },
    {
      "cell_type": "markdown",
      "metadata": {
        "id": "UaqEuuF3Y1nq"
      },
      "source": [
        "## Describe and Explain\n",
        "Describe the results of the two learning curves and explain the differences in terms of what you currently understand about the relationship between $E_{in}$ and $E_{out}$ and the number of training samples, N. Provide clear explanations:\n",
        "\n",
        "- Why the training error is (generally) lower than the test error\n",
        "- Why the training error increases as the number of training samples is increased\n",
        "- Which of the two models is the more complex model"
      ]
    },
    {
      "cell_type": "markdown",
      "metadata": {
        "id": "yiYBN4eiY1nq"
      },
      "source": [
        "### Answer\n"
      ]
    },
    {
      "cell_type": "markdown",
      "metadata": {
        "id": "vyqoRnksY1nq"
      },
      "source": [
        "Provide your answer in this cell..\n",
        "\n",
        "First of all, here's my description of two learning curves:\n",
        "\n",
        "\n",
        "1.   Logistic regression learning curve\n",
        "\n",
        "     We have two different errors, Training Error and Test Error respectively. As we seen from the Training Error, it starts a bit lower than green line and increases gradually as soon as more data is added which means the model fits the initial data perfectly but hard to fit again once the complexity increases.\n",
        "\n",
        "     On the other hand, Test Error decreases in the begining, then drop off really quick which means the more data added doesn't benifit the model.\n",
        "\n",
        "2.   Neural net learning curves\n",
        "\n",
        "     We have two different errors in this learning curves as well.\n",
        "\n",
        "     So for the Training Error of this learning curves, it begins at a relatively high level and increases quickly as the number of data added, but again once its reached the number of training examples of 100, it's slow down significantly.\n",
        "\n",
        "     On the other hand, Test Error begins at a high level but decreases really quick as more data added which means the model generalizing quite well.\n",
        "\n",
        "Come back to the question of **'the differences in terms of what you currently understand about the relationship between  Ein  and  Eout  and the number of training samples, N'**\n",
        "\n",
        "Here's my answer:\n",
        "\n",
        "*   $E_{in}$ decreases as N increases\n",
        "*   $E_{out}$ decreases as N increases as well, but only N increases to a specific point.\n",
        "*   And the differences between $E_{in}$ and $E_{out}$ is that if a model is complex one, then it may cause overfitting, which means we then have a low $E_{in}$ and high $E_{out}$. And if we have a less complex model, then its totally reverse the situations.\n",
        "\n",
        "And finally we have three questions below:\n",
        "\n",
        "1.   Why the training error is (generally) lower than the test error\n",
        "\n",
        "     I think the training error is generally lower than the test error beacause the model is fit to the data, it has adjust the parameters during the training to minimize error on it specifically.\n",
        "     The test error measures how well the model performs on new and unseen data. Since the model hasn't been adjusted to this new data, the error is generally higher.\n",
        "\n",
        "2.   Why the training error increases as the number of training samples is increased\n",
        "     \n",
        "     In terms of training samples increases, the model has seen more data and might cause more changes. And once it's happen, the model will become harder to fit all the data points perfectly.\n",
        "     And the training error increases usually means that it tend to generalize instead of memorize.\n",
        "\n",
        "3.   Which of the two models is the more complex model\n",
        "\n",
        "     As far as I know, a complex model usually indicates those who have less training error. So in this way, based on the two graphs we have above, we can have this conclusion: the second graph is a more complex model compared with the first one. Since its training error starts higher and decreases more significantly as N increases, suggesting it's adjusting more to the data.\n",
        "\n"
      ]
    },
    {
      "cell_type": "markdown",
      "metadata": {
        "id": "hFIPML0CY1nq"
      },
      "source": [
        "# Task 3"
      ]
    },
    {
      "cell_type": "markdown",
      "metadata": {
        "id": "opR--yLGY1nq"
      },
      "source": [
        "## Provided functions"
      ]
    },
    {
      "cell_type": "markdown",
      "metadata": {
        "id": "Ccf4ufK8Y1nq"
      },
      "source": [
        "Below functions implement linear regression in a closed form (one-step solution using the pseudo-inverse)."
      ]
    },
    {
      "cell_type": "code",
      "execution_count": null,
      "metadata": {
        "id": "spivltC6Y1nq"
      },
      "outputs": [],
      "source": [
        "def linreg_weights(X,y):\n",
        "    '''Returns the weight vector associated with the regression line that best describes the data X,y in an MSE fashion '''\n",
        "    # add bias 1 to inputs X\n",
        "    X = np.concatenate((np.ones((X.shape[0],1)),X.reshape(X.shape[0],X.shape[1])),axis=1)\n",
        "    # Calculation of weights using pseudo-inverse.\n",
        "    return np.linalg.inv((X.T.dot(X))).dot(X.T).dot(y)"
      ]
    },
    {
      "cell_type": "code",
      "execution_count": null,
      "metadata": {
        "id": "WA4wL-fJY1nq"
      },
      "outputs": [],
      "source": [
        "def linreg_predict(w,X):\n",
        "    ''' Returns a prediction y for data point X for a linear regression described by weights w '''\n",
        "    # add bias 1 to inputs X\n",
        "    X = np.concatenate((np.ones((X.shape[0],1)),X.reshape(X.shape[0],X.shape[1])),axis=1)\n",
        "\n",
        "    # Calculation of outputs given weights and data (X).\n",
        "    out=[]\n",
        "    for x in X:\n",
        "        out.append(w.T.dot(x))\n",
        "    return np.array(out)"
      ]
    },
    {
      "cell_type": "markdown",
      "metadata": {
        "id": "R57Fh5iaY1nq"
      },
      "source": [
        "# Task 3a"
      ]
    },
    {
      "cell_type": "markdown",
      "metadata": {
        "id": "j91THKMMY1nq"
      },
      "source": [
        "### Answer"
      ]
    },
    {
      "cell_type": "markdown",
      "metadata": {
        "id": "KWKJYBfdY1nq"
      },
      "source": [
        "You may add as many cells below as you require."
      ]
    },
    {
      "cell_type": "code",
      "source": [
        "# Load the dataset\n",
        "file_path = 'Et1_Task3a.csv'\n",
        "data = pd.read_csv(file_path)\n",
        "data.columns = ['X', 'y']"
      ],
      "metadata": {
        "id": "YbtSBlPkpJKj"
      },
      "execution_count": null,
      "outputs": []
    },
    {
      "cell_type": "code",
      "source": [
        "data"
      ],
      "metadata": {
        "colab": {
          "base_uri": "https://localhost:8080/",
          "height": 644
        },
        "id": "OqLfcM6ypUWB",
        "outputId": "081a10b6-d0af-473a-d5f6-001f01c5ce91"
      },
      "execution_count": null,
      "outputs": [
        {
          "output_type": "execute_result",
          "data": {
            "text/plain": [
              "           X         y\n",
              "0   0.473684  0.650721\n",
              "1   0.789474  0.784824\n",
              "2   0.052632  0.442512\n",
              "3   0.315789  0.444663\n",
              "4   0.947368  0.790664\n",
              "5   0.631579  0.592090\n",
              "6   0.000000  0.391561\n",
              "7   0.421053  0.623372\n",
              "8   0.578947  0.701182\n",
              "9   0.684211  0.660630\n",
              "10  0.368421  0.651216\n",
              "11  0.842105  0.876411\n",
              "12  0.105263  0.403807\n",
              "13  1.000000  0.875226\n",
              "14  0.263158  0.622466\n",
              "15  0.526316  0.579098\n",
              "16  0.736842  0.865775\n",
              "17  0.894737  0.851927\n",
              "18  0.157895  0.384816"
            ],
            "text/html": [
              "\n",
              "  <div id=\"df-b4e72118-a098-413e-9271-ec153f7fe6bf\" class=\"colab-df-container\">\n",
              "    <div>\n",
              "<style scoped>\n",
              "    .dataframe tbody tr th:only-of-type {\n",
              "        vertical-align: middle;\n",
              "    }\n",
              "\n",
              "    .dataframe tbody tr th {\n",
              "        vertical-align: top;\n",
              "    }\n",
              "\n",
              "    .dataframe thead th {\n",
              "        text-align: right;\n",
              "    }\n",
              "</style>\n",
              "<table border=\"1\" class=\"dataframe\">\n",
              "  <thead>\n",
              "    <tr style=\"text-align: right;\">\n",
              "      <th></th>\n",
              "      <th>X</th>\n",
              "      <th>y</th>\n",
              "    </tr>\n",
              "  </thead>\n",
              "  <tbody>\n",
              "    <tr>\n",
              "      <th>0</th>\n",
              "      <td>0.473684</td>\n",
              "      <td>0.650721</td>\n",
              "    </tr>\n",
              "    <tr>\n",
              "      <th>1</th>\n",
              "      <td>0.789474</td>\n",
              "      <td>0.784824</td>\n",
              "    </tr>\n",
              "    <tr>\n",
              "      <th>2</th>\n",
              "      <td>0.052632</td>\n",
              "      <td>0.442512</td>\n",
              "    </tr>\n",
              "    <tr>\n",
              "      <th>3</th>\n",
              "      <td>0.315789</td>\n",
              "      <td>0.444663</td>\n",
              "    </tr>\n",
              "    <tr>\n",
              "      <th>4</th>\n",
              "      <td>0.947368</td>\n",
              "      <td>0.790664</td>\n",
              "    </tr>\n",
              "    <tr>\n",
              "      <th>5</th>\n",
              "      <td>0.631579</td>\n",
              "      <td>0.592090</td>\n",
              "    </tr>\n",
              "    <tr>\n",
              "      <th>6</th>\n",
              "      <td>0.000000</td>\n",
              "      <td>0.391561</td>\n",
              "    </tr>\n",
              "    <tr>\n",
              "      <th>7</th>\n",
              "      <td>0.421053</td>\n",
              "      <td>0.623372</td>\n",
              "    </tr>\n",
              "    <tr>\n",
              "      <th>8</th>\n",
              "      <td>0.578947</td>\n",
              "      <td>0.701182</td>\n",
              "    </tr>\n",
              "    <tr>\n",
              "      <th>9</th>\n",
              "      <td>0.684211</td>\n",
              "      <td>0.660630</td>\n",
              "    </tr>\n",
              "    <tr>\n",
              "      <th>10</th>\n",
              "      <td>0.368421</td>\n",
              "      <td>0.651216</td>\n",
              "    </tr>\n",
              "    <tr>\n",
              "      <th>11</th>\n",
              "      <td>0.842105</td>\n",
              "      <td>0.876411</td>\n",
              "    </tr>\n",
              "    <tr>\n",
              "      <th>12</th>\n",
              "      <td>0.105263</td>\n",
              "      <td>0.403807</td>\n",
              "    </tr>\n",
              "    <tr>\n",
              "      <th>13</th>\n",
              "      <td>1.000000</td>\n",
              "      <td>0.875226</td>\n",
              "    </tr>\n",
              "    <tr>\n",
              "      <th>14</th>\n",
              "      <td>0.263158</td>\n",
              "      <td>0.622466</td>\n",
              "    </tr>\n",
              "    <tr>\n",
              "      <th>15</th>\n",
              "      <td>0.526316</td>\n",
              "      <td>0.579098</td>\n",
              "    </tr>\n",
              "    <tr>\n",
              "      <th>16</th>\n",
              "      <td>0.736842</td>\n",
              "      <td>0.865775</td>\n",
              "    </tr>\n",
              "    <tr>\n",
              "      <th>17</th>\n",
              "      <td>0.894737</td>\n",
              "      <td>0.851927</td>\n",
              "    </tr>\n",
              "    <tr>\n",
              "      <th>18</th>\n",
              "      <td>0.157895</td>\n",
              "      <td>0.384816</td>\n",
              "    </tr>\n",
              "  </tbody>\n",
              "</table>\n",
              "</div>\n",
              "    <div class=\"colab-df-buttons\">\n",
              "\n",
              "  <div class=\"colab-df-container\">\n",
              "    <button class=\"colab-df-convert\" onclick=\"convertToInteractive('df-b4e72118-a098-413e-9271-ec153f7fe6bf')\"\n",
              "            title=\"Convert this dataframe to an interactive table.\"\n",
              "            style=\"display:none;\">\n",
              "\n",
              "  <svg xmlns=\"http://www.w3.org/2000/svg\" height=\"24px\" viewBox=\"0 -960 960 960\">\n",
              "    <path d=\"M120-120v-720h720v720H120Zm60-500h600v-160H180v160Zm220 220h160v-160H400v160Zm0 220h160v-160H400v160ZM180-400h160v-160H180v160Zm440 0h160v-160H620v160ZM180-180h160v-160H180v160Zm440 0h160v-160H620v160Z\"/>\n",
              "  </svg>\n",
              "    </button>\n",
              "\n",
              "  <style>\n",
              "    .colab-df-container {\n",
              "      display:flex;\n",
              "      gap: 12px;\n",
              "    }\n",
              "\n",
              "    .colab-df-convert {\n",
              "      background-color: #E8F0FE;\n",
              "      border: none;\n",
              "      border-radius: 50%;\n",
              "      cursor: pointer;\n",
              "      display: none;\n",
              "      fill: #1967D2;\n",
              "      height: 32px;\n",
              "      padding: 0 0 0 0;\n",
              "      width: 32px;\n",
              "    }\n",
              "\n",
              "    .colab-df-convert:hover {\n",
              "      background-color: #E2EBFA;\n",
              "      box-shadow: 0px 1px 2px rgba(60, 64, 67, 0.3), 0px 1px 3px 1px rgba(60, 64, 67, 0.15);\n",
              "      fill: #174EA6;\n",
              "    }\n",
              "\n",
              "    .colab-df-buttons div {\n",
              "      margin-bottom: 4px;\n",
              "    }\n",
              "\n",
              "    [theme=dark] .colab-df-convert {\n",
              "      background-color: #3B4455;\n",
              "      fill: #D2E3FC;\n",
              "    }\n",
              "\n",
              "    [theme=dark] .colab-df-convert:hover {\n",
              "      background-color: #434B5C;\n",
              "      box-shadow: 0px 1px 3px 1px rgba(0, 0, 0, 0.15);\n",
              "      filter: drop-shadow(0px 1px 2px rgba(0, 0, 0, 0.3));\n",
              "      fill: #FFFFFF;\n",
              "    }\n",
              "  </style>\n",
              "\n",
              "    <script>\n",
              "      const buttonEl =\n",
              "        document.querySelector('#df-b4e72118-a098-413e-9271-ec153f7fe6bf button.colab-df-convert');\n",
              "      buttonEl.style.display =\n",
              "        google.colab.kernel.accessAllowed ? 'block' : 'none';\n",
              "\n",
              "      async function convertToInteractive(key) {\n",
              "        const element = document.querySelector('#df-b4e72118-a098-413e-9271-ec153f7fe6bf');\n",
              "        const dataTable =\n",
              "          await google.colab.kernel.invokeFunction('convertToInteractive',\n",
              "                                                    [key], {});\n",
              "        if (!dataTable) return;\n",
              "\n",
              "        const docLinkHtml = 'Like what you see? Visit the ' +\n",
              "          '<a target=\"_blank\" href=https://colab.research.google.com/notebooks/data_table.ipynb>data table notebook</a>'\n",
              "          + ' to learn more about interactive tables.';\n",
              "        element.innerHTML = '';\n",
              "        dataTable['output_type'] = 'display_data';\n",
              "        await google.colab.output.renderOutput(dataTable, element);\n",
              "        const docLink = document.createElement('div');\n",
              "        docLink.innerHTML = docLinkHtml;\n",
              "        element.appendChild(docLink);\n",
              "      }\n",
              "    </script>\n",
              "  </div>\n",
              "\n",
              "\n",
              "<div id=\"df-cbcc21f9-13c2-46b4-8fa2-b608f6c1257f\">\n",
              "  <button class=\"colab-df-quickchart\" onclick=\"quickchart('df-cbcc21f9-13c2-46b4-8fa2-b608f6c1257f')\"\n",
              "            title=\"Suggest charts\"\n",
              "            style=\"display:none;\">\n",
              "\n",
              "<svg xmlns=\"http://www.w3.org/2000/svg\" height=\"24px\"viewBox=\"0 0 24 24\"\n",
              "     width=\"24px\">\n",
              "    <g>\n",
              "        <path d=\"M19 3H5c-1.1 0-2 .9-2 2v14c0 1.1.9 2 2 2h14c1.1 0 2-.9 2-2V5c0-1.1-.9-2-2-2zM9 17H7v-7h2v7zm4 0h-2V7h2v10zm4 0h-2v-4h2v4z\"/>\n",
              "    </g>\n",
              "</svg>\n",
              "  </button>\n",
              "\n",
              "<style>\n",
              "  .colab-df-quickchart {\n",
              "      --bg-color: #E8F0FE;\n",
              "      --fill-color: #1967D2;\n",
              "      --hover-bg-color: #E2EBFA;\n",
              "      --hover-fill-color: #174EA6;\n",
              "      --disabled-fill-color: #AAA;\n",
              "      --disabled-bg-color: #DDD;\n",
              "  }\n",
              "\n",
              "  [theme=dark] .colab-df-quickchart {\n",
              "      --bg-color: #3B4455;\n",
              "      --fill-color: #D2E3FC;\n",
              "      --hover-bg-color: #434B5C;\n",
              "      --hover-fill-color: #FFFFFF;\n",
              "      --disabled-bg-color: #3B4455;\n",
              "      --disabled-fill-color: #666;\n",
              "  }\n",
              "\n",
              "  .colab-df-quickchart {\n",
              "    background-color: var(--bg-color);\n",
              "    border: none;\n",
              "    border-radius: 50%;\n",
              "    cursor: pointer;\n",
              "    display: none;\n",
              "    fill: var(--fill-color);\n",
              "    height: 32px;\n",
              "    padding: 0;\n",
              "    width: 32px;\n",
              "  }\n",
              "\n",
              "  .colab-df-quickchart:hover {\n",
              "    background-color: var(--hover-bg-color);\n",
              "    box-shadow: 0 1px 2px rgba(60, 64, 67, 0.3), 0 1px 3px 1px rgba(60, 64, 67, 0.15);\n",
              "    fill: var(--button-hover-fill-color);\n",
              "  }\n",
              "\n",
              "  .colab-df-quickchart-complete:disabled,\n",
              "  .colab-df-quickchart-complete:disabled:hover {\n",
              "    background-color: var(--disabled-bg-color);\n",
              "    fill: var(--disabled-fill-color);\n",
              "    box-shadow: none;\n",
              "  }\n",
              "\n",
              "  .colab-df-spinner {\n",
              "    border: 2px solid var(--fill-color);\n",
              "    border-color: transparent;\n",
              "    border-bottom-color: var(--fill-color);\n",
              "    animation:\n",
              "      spin 1s steps(1) infinite;\n",
              "  }\n",
              "\n",
              "  @keyframes spin {\n",
              "    0% {\n",
              "      border-color: transparent;\n",
              "      border-bottom-color: var(--fill-color);\n",
              "      border-left-color: var(--fill-color);\n",
              "    }\n",
              "    20% {\n",
              "      border-color: transparent;\n",
              "      border-left-color: var(--fill-color);\n",
              "      border-top-color: var(--fill-color);\n",
              "    }\n",
              "    30% {\n",
              "      border-color: transparent;\n",
              "      border-left-color: var(--fill-color);\n",
              "      border-top-color: var(--fill-color);\n",
              "      border-right-color: var(--fill-color);\n",
              "    }\n",
              "    40% {\n",
              "      border-color: transparent;\n",
              "      border-right-color: var(--fill-color);\n",
              "      border-top-color: var(--fill-color);\n",
              "    }\n",
              "    60% {\n",
              "      border-color: transparent;\n",
              "      border-right-color: var(--fill-color);\n",
              "    }\n",
              "    80% {\n",
              "      border-color: transparent;\n",
              "      border-right-color: var(--fill-color);\n",
              "      border-bottom-color: var(--fill-color);\n",
              "    }\n",
              "    90% {\n",
              "      border-color: transparent;\n",
              "      border-bottom-color: var(--fill-color);\n",
              "    }\n",
              "  }\n",
              "</style>\n",
              "\n",
              "  <script>\n",
              "    async function quickchart(key) {\n",
              "      const quickchartButtonEl =\n",
              "        document.querySelector('#' + key + ' button');\n",
              "      quickchartButtonEl.disabled = true;  // To prevent multiple clicks.\n",
              "      quickchartButtonEl.classList.add('colab-df-spinner');\n",
              "      try {\n",
              "        const charts = await google.colab.kernel.invokeFunction(\n",
              "            'suggestCharts', [key], {});\n",
              "      } catch (error) {\n",
              "        console.error('Error during call to suggestCharts:', error);\n",
              "      }\n",
              "      quickchartButtonEl.classList.remove('colab-df-spinner');\n",
              "      quickchartButtonEl.classList.add('colab-df-quickchart-complete');\n",
              "    }\n",
              "    (() => {\n",
              "      let quickchartButtonEl =\n",
              "        document.querySelector('#df-cbcc21f9-13c2-46b4-8fa2-b608f6c1257f button');\n",
              "      quickchartButtonEl.style.display =\n",
              "        google.colab.kernel.accessAllowed ? 'block' : 'none';\n",
              "    })();\n",
              "  </script>\n",
              "</div>\n",
              "    </div>\n",
              "  </div>\n"
            ]
          },
          "metadata": {},
          "execution_count": 30
        }
      ]
    },
    {
      "cell_type": "code",
      "source": [
        "# Calculate mean Squared Error\n",
        "def calc_error(w,X,y):\n",
        "    # implement your error function for linear regression here\n",
        "    y_pred = linreg_predict(w, X)\n",
        "    return ((y - y_pred) ** 2).mean()\n"
      ],
      "metadata": {
        "id": "mawyoVX7pXF4"
      },
      "execution_count": null,
      "outputs": []
    },
    {
      "cell_type": "code",
      "source": [
        "# Two provided functions\n",
        "def linreg_weights(X,y):\n",
        "    '''Returns the weight vector associated with the regression line that best describes the data X,y in an MSE fashion '''\n",
        "    # add bias 1 to inputs X\n",
        "    X = np.concatenate((np.ones((X.shape[0],1)),X.reshape(X.shape[0],X.shape[1])),axis=1)\n",
        "    # Calculation of weights using pseudo-inverse.\n",
        "    return np.linalg.inv((X.T.dot(X))).dot(X.T).dot(y)\n",
        "\n",
        "def linreg_predict(w,X):\n",
        "    ''' Returns a prediction y for data point X for a linear regression described by weights w '''\n",
        "    # add bias 1 to inputs X\n",
        "    X = np.concatenate((np.ones((X.shape[0],1)),X.reshape(X.shape[0],X.shape[1])),axis=1)\n",
        "\n",
        "    # Calculation of outputs given weights and data (X).\n",
        "    out=[]\n",
        "    for x in X:\n",
        "        out.append(w.T.dot(x))\n",
        "    return np.array(out)"
      ],
      "metadata": {
        "id": "CfxaiP1isjPK"
      },
      "execution_count": null,
      "outputs": []
    },
    {
      "cell_type": "code",
      "source": [
        "# Processing the data\n",
        "X = data['X'].values.reshape(-1, 1)\n",
        "y = data['y'].values"
      ],
      "metadata": {
        "id": "u_8UwBalqWWe"
      },
      "execution_count": null,
      "outputs": []
    },
    {
      "cell_type": "code",
      "source": [
        "# Calculating weights\n",
        "weights = linreg_weights(X, y)\n",
        "\n",
        "# Prediction and error calculation\n",
        "y_pred = linreg_predict(weights, X)\n",
        "error = calc_error(weights, X, y)"
      ],
      "metadata": {
        "id": "mvouq55erA4q"
      },
      "execution_count": null,
      "outputs": []
    },
    {
      "cell_type": "code",
      "source": [
        "# Plotting the regression line together with the data\n",
        "plt.figure(figsize=(8, 4))\n",
        "plt.scatter(X, y, color='green', label='Data Points')\n",
        "plt.plot(X, y_pred, color='red', label='Regression Line')\n",
        "plt.title('Linear Regression Line')\n",
        "plt.xlabel('X')\n",
        "plt.ylabel('y')\n",
        "plt.legend()\n",
        "plt.grid(True)\n",
        "plt.show()"
      ],
      "metadata": {
        "colab": {
          "base_uri": "https://localhost:8080/",
          "height": 410
        },
        "id": "Wm_AsrE7rS8n",
        "outputId": "036f61d3-3ca9-4455-8d36-cda9a8763a0d"
      },
      "execution_count": null,
      "outputs": [
        {
          "output_type": "display_data",
          "data": {
            "text/plain": [
              "<Figure size 800x400 with 1 Axes>"
            ],
            "image/png": "[encoded data removed]"
          },
          "metadata": {}
        }
      ]
    },
    {
      "cell_type": "code",
      "source": [
        "# Quantify the error\n",
        "print(\"Error without outlier:\", error)"
      ],
      "metadata": {
        "colab": {
          "base_uri": "https://localhost:8080/"
        },
        "id": "iKdXHWcTrbUV",
        "outputId": "00b4ff43-3355-48e9-aca7-6d4983ae35d4"
      },
      "execution_count": null,
      "outputs": [
        {
          "output_type": "stream",
          "name": "stdout",
          "text": [
            "Error without outlier: 0.004317054763326226\n"
          ]
        }
      ]
    },
    {
      "cell_type": "code",
      "source": [],
      "metadata": {
        "id": "d6KwQrvCtnTq"
      },
      "execution_count": null,
      "outputs": []
    },
    {
      "cell_type": "markdown",
      "metadata": {
        "id": "Nl9USNuDY1nq"
      },
      "source": [
        "##  Describe and Explain\n",
        "Discuss your results and answer the following questions:\n",
        "1. Which data point adds the biggest error term to the optimised error function?\n",
        "2. How does the error contributed by this point relate to its distance from the regression line/function?\n",
        "3. How do outliers effect linear regression and why?\n",
        "4. Under what circumstances will linear regression with a squared error measure be a good model?"
      ]
    },
    {
      "cell_type": "markdown",
      "metadata": {
        "id": "bcr2IJJ5Y1nq"
      },
      "source": [
        "Provide your answer in this cell..\n",
        "\n",
        "1. Which data point adds the biggest error term to the optimised error function?\n",
        "\n",
        "  I was implemented MSE in the task 3a to calculate the error, so in this case, the answer of this question is that the data point is most far away from the regression line. Because in the context of the Mean Square Error, the error contributed by each point is the square of its vertical distance from the regression line. Therefore, the further the points are, the biggest error it will cause.\n",
        "\n",
        "2. How does the error contributed by this point relate to its distance from the regression line/function?\n",
        "\n",
        "  So I've already gave the answer above, a small vertical distance leads to a small error term, while a larger distance results in a significantly larger error term due to the squaring effect.\n",
        "\n",
        "3. How do outliers effect linear regression and why?\n",
        "\n",
        "  \n",
        "\n",
        "4. Under what circumstances will linear regression with a squared error measure be a good model?\n",
        "\n",
        "\n"
      ]
    },
    {
      "cell_type": "markdown",
      "metadata": {
        "id": "ZTppGT7yY1nr"
      },
      "source": [
        "# Task 3b"
      ]
    },
    {
      "cell_type": "markdown",
      "metadata": {
        "id": "n5L0ndsRY1nr"
      },
      "source": [
        "For regression the Mean Squared Error measure is a useful error measure. In this task we will explore how useful mean squared error is for classification. To this end:\n",
        "\n",
        "- Use the provided code to classify the provided data using the linear classification algorithm\n",
        "- Note that linear classification is implemented by putting the output of the linear regression model through the sign function"
      ]
    },
    {
      "cell_type": "markdown",
      "metadata": {
        "id": "w1fDsARlY1nr"
      },
      "source": [
        "### Answer"
      ]
    },
    {
      "cell_type": "code",
      "execution_count": null,
      "metadata": {
        "id": "q7XKRhyZY1nr",
        "colab": {
          "base_uri": "https://localhost:8080/",
          "height": 144
        },
        "outputId": "77ec3c37-4030-4a28-c560-0980a16a03dd"
      },
      "outputs": [
        {
          "output_type": "error",
          "ename": "SyntaxError",
          "evalue": "incomplete input (<ipython-input-28-8689aa3113e9>, line 2)",
          "traceback": [
            "\u001b[0;36m  File \u001b[0;32m\"<ipython-input-28-8689aa3113e9>\"\u001b[0;36m, line \u001b[0;32m2\u001b[0m\n\u001b[0;31m    # implement your error function for linear classification here\u001b[0m\n\u001b[0m                                                                  ^\u001b[0m\n\u001b[0;31mSyntaxError\u001b[0m\u001b[0;31m:\u001b[0m incomplete input\n"
          ]
        }
      ],
      "source": [
        "def calc_class_error(w,X,y):\n",
        "    # implement your error function for linear classification here\n",
        "    pass"
      ]
    },
    {
      "cell_type": "code",
      "execution_count": null,
      "metadata": {
        "id": "_Q90qhBpY1nr"
      },
      "outputs": [],
      "source": [
        "def linclass_predict(w,X):\n",
        "    # implement your linear classification algorithm here\n",
        "    pass"
      ]
    },
    {
      "cell_type": "markdown",
      "metadata": {
        "id": "lzRqiuThY1nr"
      },
      "source": [
        "You may add as many cells below as you require."
      ]
    },
    {
      "cell_type": "markdown",
      "metadata": {
        "id": "jiWgEuMaY1nr"
      },
      "source": [
        "##  Describe and Explain\n",
        "Describe the impact of the outlier on both models. Explain why logistic regression is less sensitive to the outlier."
      ]
    },
    {
      "cell_type": "markdown",
      "metadata": {
        "id": "uLmFJDBvY1nr"
      },
      "source": [
        "Provide your answer in this cell.."
      ]
    },
    {
      "cell_type": "markdown",
      "metadata": {
        "id": "4Ps7qpoLY1nr"
      },
      "source": [
        " # Reflection\n",
        " Once you have completed all tasks in this notebook and have studied all other materials for this E-tivity (resources, lectures and live sessions), answer the following questions.\n",
        "<ol>\n",
        "<li>Summarise your understanding of how the Hoeffding bound, the concept of 'shattering', break points and the growth function inform the VC bound for a binary classifier. Also discuss how this relates to the general rule of thumb in machine learning that one needs a number of data points at least equal to 10 times the VC bound.</li>\n",
        "<li>Summarise your understanding of the approximation-generalisation trade-off in terms of complexity, bias and variance of a model, and the resulting under/overfitting given the available data. </li>\n",
        "    </ol>"
      ]
    },
    {
      "cell_type": "markdown",
      "metadata": {
        "id": "NEADacPTY1nr"
      },
      "source": [
        "## 1\n",
        "Provide your answer in this cell.."
      ]
    },
    {
      "cell_type": "markdown",
      "metadata": {
        "id": "KJWAhHphY1nr"
      },
      "source": [
        "## 2\n",
        "Provide your answer in this cell.."
      ]
    },
    {
      "cell_type": "markdown",
      "metadata": {
        "id": "EQXSXYobY1nr"
      },
      "source": [
        "<hr style=\"border:2px solid gray\">\n",
        "\n",
        "# Appendix"
      ]
    },
    {
      "cell_type": "markdown",
      "metadata": {
        "id": "vUBCbJDhY1ns"
      },
      "source": [
        "## Demonstration of effect of outlier on logistic regression decision boundary for comparision with linear classification\n",
        "\n",
        "Below code demonstrates the effect of an outlier on the decision boundary chosen by logistic regression. You can use this code to compare the effect of outliers in a classification algorithm using mean square error as the error measure with that in a classification algorithm using log likelihood as the error measure. Moreover, below code provides some good hints for plotting the decision boundary in task 3b :-)."
      ]
    },
    {
      "cell_type": "markdown",
      "metadata": {
        "id": "65GmilcQY1ns"
      },
      "source": [
        "Load data:"
      ]
    },
    {
      "cell_type": "code",
      "execution_count": null,
      "metadata": {
        "id": "-26pC9ShY1ns"
      },
      "outputs": [],
      "source": [
        "data = np.loadtxt(\"Et1_Task3b.csv\", delimiter=\",\")\n",
        "X = data[:,0:2]\n",
        "y=data[:,2]"
      ]
    },
    {
      "cell_type": "markdown",
      "metadata": {
        "id": "XYQ4MS3tY1ns"
      },
      "source": [
        "Fit model:"
      ]
    },
    {
      "cell_type": "code",
      "execution_count": null,
      "metadata": {
        "id": "oKhKIEkcY1ns"
      },
      "outputs": [],
      "source": [
        "estimator = LogisticRegression(solver='lbfgs')\n",
        "estimator.fit(X,y)\n",
        "estimator.score(X,y)"
      ]
    },
    {
      "cell_type": "markdown",
      "metadata": {
        "id": "DGaE4KjGY1ns"
      },
      "source": [
        "Extract weights from model:"
      ]
    },
    {
      "cell_type": "code",
      "execution_count": null,
      "metadata": {
        "id": "DrAJGYbfY1ns"
      },
      "outputs": [],
      "source": [
        "w_lr = estimator.intercept_\n",
        "w_lr=np.append(w_lr, estimator.coef_)\n",
        "w_lr"
      ]
    },
    {
      "cell_type": "markdown",
      "metadata": {
        "id": "9_zOAesUY1ns"
      },
      "source": [
        "Add outlier:"
      ]
    },
    {
      "cell_type": "code",
      "execution_count": null,
      "metadata": {
        "id": "GtHYJrEjY1ns"
      },
      "outputs": [],
      "source": [
        "X = np.append(X,[[-2,6]], axis=0)\n",
        "y = np.append(y,[1],axis=0)"
      ]
    },
    {
      "cell_type": "markdown",
      "metadata": {
        "id": "URo2k6AJY1ns"
      },
      "source": [
        "Fit model with outlier:"
      ]
    },
    {
      "cell_type": "code",
      "execution_count": null,
      "metadata": {
        "id": "frpxrvexY1ns"
      },
      "outputs": [],
      "source": [
        "estimator = LogisticRegression(solver='lbfgs')\n",
        "estimator.fit(X,y)\n",
        "estimator.score(X,y)"
      ]
    },
    {
      "cell_type": "markdown",
      "metadata": {
        "id": "-qBxiPXCY1ns"
      },
      "source": [
        "Extract new weight vector from model:"
      ]
    },
    {
      "cell_type": "code",
      "execution_count": null,
      "metadata": {
        "id": "VP1FJpxBY1ns"
      },
      "outputs": [],
      "source": [
        "w_lr_2 = estimator.intercept_\n",
        "w_lr_2=np.append(w_lr_2, estimator.coef_)\n",
        "w_lr_2"
      ]
    },
    {
      "cell_type": "markdown",
      "metadata": {
        "id": "kvBzeu3EY1ns"
      },
      "source": [
        "Plot original and new decision boundary using weight vectors. Decision boundary is defined by equation: $w_0+x_0\\cdot w_1+x_1 \\cdot w_2=0 \\rightarrow x_2 = -\\frac{w_0}{w_2}-x_1\\frac{w_1}{w_2}$"
      ]
    },
    {
      "cell_type": "code",
      "execution_count": null,
      "metadata": {
        "id": "2ta98xsRY1ns"
      },
      "outputs": [],
      "source": [
        "y_p = estimator.predict(X)\n",
        "plt.scatter(X[:, 0], X[:, 1], c=y)\n",
        "plt.plot([-2,2],[-w_lr[0]/w_lr[2]+w_lr[1]/w_lr[2]*2,-w_lr[0]/w_lr[2]-w_lr[1]/w_lr[2]*2],'b',label=\"original data\")\n",
        "plt.plot([-2,2],[-w_lr_2[0]/w_lr_2[2]+w_lr_2[1]/w_lr_2[2]*2,-w_lr_2[0]/w_lr_2[2]-w_lr_2[1]/w_lr_2[2]*2],'r',label='data with outlier')\n",
        "\n",
        "plt.title(\"Data with outlier classified with logistic regression\")\n",
        "plt.legend(loc=\"upper right\")\n",
        "plt.show()\n",
        "1-sum(abs(y_p-y))/len(y)"
      ]
    }
  ],
  "metadata": {
    "kernelspec": {
      "display_name": "Python 3 (ipykernel)",
      "language": "python",
      "name": "python3"
    },
    "language_info": {
      "codemirror_mode": {
        "name": "ipython",
        "version": 3
      },
      "file_extension": ".py",
      "mimetype": "text/x-python",
      "name": "python",
      "nbconvert_exporter": "python",
      "pygments_lexer": "ipython3",
      "version": "3.8.8"
    },
    "colab": {
      "provenance": [],
      "collapsed_sections": [
        "ZTppGT7yY1nr",
        "4Ps7qpoLY1nr",
        "EQXSXYobY1nr"
      ],
      "include_colab_link": true
    }
  },
  "nbformat": 4,
  "nbformat_minor": 0
}